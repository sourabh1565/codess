{
 "cells": [
  {
   "cell_type": "code",
   "execution_count": 2,
   "id": "d8026190",
   "metadata": {},
   "outputs": [
    {
     "name": "stdout",
     "output_type": "stream",
     "text": [
      "0.28639695711595625\n"
     ]
    }
   ],
   "source": [
    "import math\n",
    "entropy=-0.05*math.log2(0.05)-0.95*math.log2(0.95)\n",
    "print(entropy)"
   ]
  },
  {
   "cell_type": "code",
   "execution_count": 8,
   "id": "833651aa",
   "metadata": {},
   "outputs": [
    {
     "data": {
      "text/plain": [
       "array(['Cust_num', 'Region', 'Age', 'Order_Quantity', 'Customer_Type',\n",
       "       'Overall_Satisfaction'], dtype=object)"
      ]
     },
     "execution_count": 8,
     "metadata": {},
     "output_type": "execute_result"
    }
   ],
   "source": [
    "import pandas as pd\n",
    "Ecom_data = pd.read_csv(\"https://raw.githubusercontent.com/venkatareddykonasani/Datasets/master/Ecom_Cust_Relationship_Management/Ecom_Cust_Survey_v1.csv\")\n",
    "\n",
    "Ecom_data.columns.values"
   ]
  },
  {
   "cell_type": "code",
   "execution_count": 10,
   "id": "22093cbe",
   "metadata": {},
   "outputs": [
    {
     "data": {
      "text/plain": [
       "array(['Cust_num', 'Region', 'Age', 'Order_Quantity', 'Customer_Type',\n",
       "       'Overall_Satisfaction', 'Customer_Type_num',\n",
       "       'Overall_Satisfaction_num'], dtype=object)"
      ]
     },
     "execution_count": 10,
     "metadata": {},
     "output_type": "execute_result"
    }
   ],
   "source": [
    "Ecom_data['Customer_Type_num']=Ecom_data['Customer_Type'].map({'Prime':1,'Non_Prime':0}).astype(int)\n",
    "Ecom_data['Customer_Type_num'].value_counts()\n",
    "Ecom_data['Overall_Satisfaction_num']=Ecom_data['Overall_Satisfaction'].map({'Satisfied':1,'Dis Satisfied':0}).astype(int)\n",
    "Ecom_data['Overall_Satisfaction_num'].value_counts()\n",
    "Ecom_data.columns.values"
   ]
  },
  {
   "cell_type": "code",
   "execution_count": 13,
   "id": "22167ff6",
   "metadata": {},
   "outputs": [],
   "source": [
    "features=['Cust_num', 'Region', 'Age', 'Order_Quantity', 'Customer_Type_num']\n",
    "x=Ecom_data[features]\n",
    "y=Ecom_data['Overall_Satisfaction']\n"
   ]
  },
  {
   "cell_type": "code",
   "execution_count": 16,
   "id": "40ac260f",
   "metadata": {},
   "outputs": [
    {
     "name": "stdout",
     "output_type": "stream",
     "text": [
      "|--- Order_Quantity <= 40.50\n",
      "|   |--- Age <= 29.50\n",
      "|   |   |--- class: Satisfied\n",
      "|   |--- Age >  29.50\n",
      "|   |   |--- class: Dis Satisfied\n",
      "|--- Order_Quantity >  40.50\n",
      "|   |--- Cust_num <= 205.50\n",
      "|   |   |--- class: Satisfied\n",
      "|   |--- Cust_num >  205.50\n",
      "|   |   |--- class: Satisfied\n",
      "\n"
     ]
    }
   ],
   "source": [
    "from sklearn import tree\n",
    "import matplotlib.pyplot as plt\n",
    "from sklearn.tree import plot_tree, export_text\n",
    "DTree=tree.DecisionTreeClassifier(max_depth=2)\n",
    "DTree.fit(x,y)\n",
    "print( export_text(DTree, feature_names = features))"
   ]
  },
  {
   "cell_type": "code",
   "execution_count": null,
   "id": "b00a14e0",
   "metadata": {},
   "outputs": [],
   "source": []
  }
 ],
 "metadata": {
  "kernelspec": {
   "display_name": "Python 3 (ipykernel)",
   "language": "python",
   "name": "python3"
  },
  "language_info": {
   "codemirror_mode": {
    "name": "ipython",
    "version": 3
   },
   "file_extension": ".py",
   "mimetype": "text/x-python",
   "name": "python",
   "nbconvert_exporter": "python",
   "pygments_lexer": "ipython3",
   "version": "3.11.5"
  }
 },
 "nbformat": 4,
 "nbformat_minor": 5
}
